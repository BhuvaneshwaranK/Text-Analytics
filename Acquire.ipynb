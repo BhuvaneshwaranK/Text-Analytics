{
 "cells": [
  {
   "cell_type": "markdown",
   "metadata": {},
   "source": [
    "## Acquire #Machine Learning Twitter Data"
   ]
  },
  {
   "cell_type": "code",
   "execution_count": 1,
   "metadata": {
    "collapsed": false
   },
   "outputs": [],
   "source": [
    "from tweepy import OAuthHandler\n",
    "from tweepy import API\n",
    "from tweepy import Cursor\n",
    "import json\n",
    "import pandas as pd\n",
    "import matplotlib as mpl\n",
    "import matplotlib.pyplot as plt\n",
    "from matplotlib.ticker import MaxNLocator\n",
    "from matplotlib import rcParams\n",
    "from matplotlib import dates\n",
    "from datetime import datetime\n",
    "import time\n",
    "import os\n",
    "from scipy.misc import imread\n",
    "from wordcloud import WordCloud, STOPWORDS, ImageColorGenerator\n",
    "import random"
   ]
  },
  {
   "cell_type": "code",
   "execution_count": 2,
   "metadata": {
    "collapsed": true
   },
   "outputs": [],
   "source": [
    "consumer_key = 'your Twitter consumer key'\n",
    "consumer_secret = 'your Twitter consumer secret key'\n",
    "access_token = 'your Twitter access token'\n",
    "access_token_secret = 'your Twitter access token secret key'\n",
    "MAX_TWEETS = 1000"
   ]
  },
  {
   "cell_type": "code",
   "execution_count": 4,
   "metadata": {
    "collapsed": true
   },
   "outputs": [],
   "source": [
    "auth = OAuthHandler(consumer_key, consumer_secret)\n",
    "auth.set_access_token(access_token, access_token_secret)\n",
    "api = API(auth, wait_on_rate_limit=True)"
   ]
  },
  {
   "cell_type": "code",
   "execution_count": 5,
   "metadata": {
    "collapsed": false
   },
   "outputs": [],
   "source": [
    "data = Cursor(api.search, q='machine learning').items(MAX_TWEETS)"
   ]
  },
  {
   "cell_type": "code",
   "execution_count": 7,
   "metadata": {
    "collapsed": false
   },
   "outputs": [
    {
     "name": "stdout",
     "output_type": "stream",
     "text": [
      "{u'contributors': None, u'truncated': False, u'text': u'#Alation Centralizes Enterprise Data Knowledge by Employing Machine Learning and Crowdsourcing #bigdata #HPE https://t.co/0KQ0FIchGl', u'is_quote_status': False, u'in_reply_to_status_id': None, u'id': 751345286425915392L, u'favorite_count': 1, u'source': u'<a href=\"http://dynamicsignal.com/\" rel=\"nofollow\">VoiceStorm</a>', u'retweeted': False, u'coordinates': None, u'entities': {u'symbols': [], u'user_mentions': [], u'hashtags': [{u'indices': [0, 8], u'text': u'Alation'}, {u'indices': [95, 103], u'text': u'bigdata'}, {u'indices': [104, 108], u'text': u'HPE'}], u'urls': [{u'url': u'https://t.co/0KQ0FIchGl', u'indices': [109, 132], u'expanded_url': u'http://bit.ly/29n1RYn', u'display_url': u'bit.ly/29n1RYn'}]}, u'in_reply_to_screen_name': None, u'id_str': u'751345286425915392', u'retweet_count': 2, u'in_reply_to_user_id': None, u'favorited': False, u'user': {u'follow_request_sent': False, u'has_extended_profile': False, u'profile_use_background_image': True, u'id': 3241097632L, u'verified': False, u'profile_text_color': u'333333', u'profile_image_url_https': u'https://pbs.twimg.com/profile_images/596426075191832577/ZnXx8FdP_normal.jpg', u'profile_sidebar_fill_color': u'DDEEF6', u'is_translator': False, u'geo_enabled': False, u'entities': {u'url': {u'urls': [{u'url': u'https://t.co/Gz1hVOvsxu', u'indices': [0, 23], u'expanded_url': u'http://www.hpe.com', u'display_url': u'hpe.com'}]}, u'description': {u'urls': []}}, u'followers_count': 161, u'protected': False, u'location': u'', u'default_profile_image': False, u'id_str': u'3241097632', u'lang': u'it', u'utc_offset': -25200, u'statuses_count': 2812, u'description': u'#HPE #Server Bladesystem Apollo and Moonshot Product Manager @HPE_IT', u'friends_count': 105, u'profile_link_color': u'0084B4', u'profile_image_url': u'http://pbs.twimg.com/profile_images/596426075191832577/ZnXx8FdP_normal.jpg', u'notifications': False, u'profile_background_image_url_https': u'https://abs.twimg.com/images/themes/theme1/bg.png', u'profile_background_color': u'C0DEED', u'profile_banner_url': u'https://pbs.twimg.com/profile_banners/3241097632/1447062954', u'profile_background_image_url': u'http://abs.twimg.com/images/themes/theme1/bg.png', u'name': u'Gianluca Gamberoni', u'is_translation_enabled': False, u'profile_background_tile': False, u'favourites_count': 2, u'screen_name': u'GamberoniGluca', u'url': u'https://t.co/Gz1hVOvsxu', u'created_at': u'Thu May 07 21:00:42 +0000 2015', u'contributors_enabled': False, u'time_zone': u'Pacific Time (US & Canada)', u'profile_sidebar_border_color': u'C0DEED', u'default_profile': True, u'following': False, u'listed_count': 205}, u'geo': None, u'in_reply_to_user_id_str': None, u'possibly_sensitive': False, u'lang': u'en', u'created_at': u'Fri Jul 08 09:20:50 +0000 2016', u'in_reply_to_status_id_str': None, u'place': None, u'metadata': {u'iso_language_code': u'en', u'result_type': u'recent'}}\n"
     ]
    }
   ],
   "source": [
    "tweets_data = []\n",
    "# for tweet in data:\n",
    "#     tweets_data.append(json.loads(json.dumps(tweet._json)))\n",
    "# print tweets_data[0]\n",
    "\n",
    "\n",
    "\n",
    "current_working_dir = \"./\"\n",
    "log_tweets = current_working_dir  + str(time.time()) + '_tweets.txt'\n",
    "with open(log_tweets, 'w') as outfile:\n",
    "    for tweet in data:\n",
    "        tweets_data.append(json.loads(json.dumps(tweet._json)))\n",
    "        outfile.write(\"\\n\")\n",
    "print tweets_data[0]"
   ]
  },
  {
   "cell_type": "code",
   "execution_count": null,
   "metadata": {
    "collapsed": true
   },
   "outputs": [],
   "source": [
    "# Create the dataframe we will use\n",
    "tweets = pd.DataFrame()\n",
    "    # We want to know when a tweet was sent\n",
    "tweets['created_at'] = map(lambda tweet: time.strftime('%Y-%m-%d %H:%M:%S', time.strptime(tweet['created_at'],'%a %b %d %H:%M:%S +0000 %Y')), tweets_data)\n",
    "    # Who is the tweet owner\n",
    "tweets['user'] = map(lambda tweet: tweet['user']['screen_name'], tweets_data)\n",
    "    # How many follower this user has\n",
    "tweets['user_followers_count'] = map(lambda tweet: tweet['user']['followers_count'], tweets_data)\n",
    "    # What is the tweet's content\n",
    "tweets['text'] = map(lambda tweet: tweet['text'].encode('utf-8'), tweets_data)\n",
    "    # If available what is the language the tweet is written in\n",
    "tweets['lang'] = map(lambda tweet: tweet['lang'], tweets_data)\n",
    "    # If available, where was the tweet sent from ?\n",
    "tweets['Location'] = map(lambda tweet: tweet['place']['country'] if tweet['place'] != None else None, tweets_data)\n",
    "    # How many times this tweet was retweeted and favorited\n",
    "tweets['retweet_count'] = map(lambda tweet: tweet['retweet_count'], tweets_data)\n",
    "tweets['favorite_count'] = map(lambda tweet: tweet['favorite_count'], tweets_data)\n",
    "\n",
    "print tweets.head()"
   ]
  },
  {
   "cell_type": "code",
   "execution_count": null,
   "metadata": {
    "collapsed": true
   },
   "outputs": [],
   "source": [
    "tweets.to_csv(\"MachineLearning_tweets.csv\")"
   ]
  },
  {
   "cell_type": "code",
   "execution_count": null,
   "metadata": {
    "collapsed": true
   },
   "outputs": [],
   "source": [
    "list_of_original_tweets = [element for element in tweets['text'].values if not element.startswith('RT')]\n",
    "print list_of_original_tweets[0]\n",
    "print \"Number of Original Tweets : \" + str(len(list_of_original_tweets))\n",
    "list_of_retweets = [element for element in tweets['text'].values if element.startswith('RT')]\n",
    "print \"Number of Retweets : \" + str(len(list_of_retweets))"
   ]
  },
  {
   "cell_type": "code",
   "execution_count": null,
   "metadata": {
    "collapsed": true
   },
   "outputs": [],
   "source": []
  }
 ],
 "metadata": {
  "kernelspec": {
   "display_name": "Python 2",
   "language": "python",
   "name": "python2"
  },
  "language_info": {
   "codemirror_mode": {
    "name": "ipython",
    "version": 2
   },
   "file_extension": ".py",
   "mimetype": "text/x-python",
   "name": "python",
   "nbconvert_exporter": "python",
   "pygments_lexer": "ipython2",
   "version": "2.7.9"
  }
 },
 "nbformat": 4,
 "nbformat_minor": 0
}
